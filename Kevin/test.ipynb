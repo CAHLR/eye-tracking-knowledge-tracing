{
 "cells": [
  {
   "cell_type": "code",
   "execution_count": 8,
   "metadata": {},
   "outputs": [
    {
     "name": "stdout",
     "output_type": "stream",
     "text": [
      "The num of students is  35\n"
     ]
    }
   ],
   "source": [
    "# coding: utf-8\n",
    "import csv\n",
    "import numpy as np\n",
    "import pandas as pd\n",
    "import pdb\n",
    "import os\n",
    "import pdb\n",
    "root = '../../'\n",
    "writer = csv.writer(open(root + 'DKT_atoms.csv','w',newline=''))\n",
    "imputed_list = []\n",
    "for dirpath,dirnames,filenames in os.walk(root):\n",
    "    for filename in filenames:\n",
    "        if filename.endswith('_imputed.csv'):\n",
    "            imputed_list.append(dirpath + '/' + filename)\n",
    "\n",
    "\n",
    "problem_ID = 0 # make each question to be an ID\n",
    "problem_set = {} # unique problem type\n",
    "answer_set = {'CORRECT':1, 'INCORRECT':0}\n",
    "print ('The num of students is ', len(imputed_list))\n",
    "\n"
   ]
  },
  {
   "cell_type": "code",
   "execution_count": 9,
   "metadata": {
    "collapsed": true
   },
   "outputs": [],
   "source": [
    "student = pd.read_csv('../../2014 S Session 2/atoms31_imputed.csv', low_memory=False)  "
   ]
  },
  {
   "cell_type": "code",
   "execution_count": 17,
   "metadata": {
    "collapsed": true
   },
   "outputs": [],
   "source": [
    "Null = pd.isnull(student.Screen_Number)\n",
    "student_res = student[Null == False]\n",
    "    "
   ]
  },
  {
   "cell_type": "code",
   "execution_count": 21,
   "metadata": {},
   "outputs": [
    {
     "data": {
      "text/plain": [
       "Index(['Unnamed: 0', 'Unnamed: 0.1', 'Unnamed: 0.1.1', 'username', 'meta',\n",
       "       'mouseX', 'mouseY', 'Response', 'question', 'answer_given', 'luuid',\n",
       "       'keypress', 'input_type', 'Time', 'Type', 'Trial', 'L_Raw_X', 'L_Raw_Y',\n",
       "       'L_Dia_X', 'L_Dia_Y', 'L_CR1_X', 'L_CR1_Y', 'L_CR2_X', 'L_CR2_Y',\n",
       "       'L_POR_X', 'L_POR_Y', 'Timing', 'L_Validity', 'Pupil_Confidence',\n",
       "       'L_Plane', 'H_POS_X', 'H_POS_Y', 'H_POS_Z', 'H_ROT_X', 'H_ROT_Y',\n",
       "       'H_ROT_Z', 'L_EPOS_X', 'L_EPOS_Y', 'L_EPOS_Z', 'L_GVEC_X', 'L_GVEC_Y',\n",
       "       'L_GVEC_Z', 'Frame', 'Aux1', 'identifier', 'problem', 'Session',\n",
       "       'condition', 'problem_type', 'representation', 'Stimulus', 'AOI_withPT',\n",
       "       'Step Name', 'KC (ReprAll_fineButAtoms)', 'Screen_Number',\n",
       "       'Representation_Number_Within_Screen', 'Representation_Number_Overall'],\n",
       "      dtype='object')"
      ]
     },
     "execution_count": 21,
     "metadata": {},
     "output_type": "execute_result"
    }
   ],
   "source": [
    "student.columns"
   ]
  },
  {
   "cell_type": "code",
   "execution_count": null,
   "metadata": {
    "collapsed": true
   },
   "outputs": [],
   "source": [
    "student_res[['Screen_Number','Representation_Number_Within_Screen','Representation_Number_Overall']]"
   ]
  },
  {
   "cell_type": "code",
   "execution_count": 3,
   "metadata": {},
   "outputs": [
    {
     "name": "stdout",
     "output_type": "stream",
     "text": [
      "The num of students is  35\n"
     ]
    },
    {
     "name": "stderr",
     "output_type": "stream",
     "text": [
      "/research/atoms/DKT/DKT_eyetracking/eye_preprocessing.py:27: UserWarning: Boolean Series key will be reindexed to match DataFrame index.\n",
      "  student_res = student_res[student_res['question'] != '_root'][student_res['question'] != 'done'][student_res['question'] != 'nl'][student_res['Response'] != 'HINT']\n"
     ]
    },
    {
     "name": "stdout",
     "output_type": "stream",
     "text": [
      "num_problem 192 \n",
      " len(problem_IDs)  192 \n",
      " len(answers) 192\n",
      "../../2014 S Session 2/atoms16_imputed.csv filtering out, screen/page info missing\n",
      "num_problem 81 \n",
      " len(problem_IDs)  81 \n",
      " len(answers) 81\n",
      "num_problem 92 \n",
      " len(problem_IDs)  92 \n",
      " len(answers) 92\n",
      "num_problem 126 \n",
      " len(problem_IDs)  126 \n",
      " len(answers) 126\n",
      "num_problem 109 \n",
      " len(problem_IDs)  109 \n",
      " len(answers) 109\n",
      "num_problem 88 \n",
      " len(problem_IDs)  88 \n",
      " len(answers) 88\n",
      "num_problem 90 \n",
      " len(problem_IDs)  90 \n",
      " len(answers) 90\n",
      "num_problem 95 \n",
      " len(problem_IDs)  95 \n",
      " len(answers) 95\n",
      "num_problem 162 \n",
      " len(problem_IDs)  162 \n",
      " len(answers) 162\n",
      "num_problem 195 \n",
      " len(problem_IDs)  195 \n",
      " len(answers) 195\n",
      "num_problem 178 \n",
      " len(problem_IDs)  178 \n",
      " len(answers) 178\n",
      "num_problem 118 \n",
      " len(problem_IDs)  118 \n",
      " len(answers) 118\n",
      "num_problem 97 \n",
      " len(problem_IDs)  97 \n",
      " len(answers) 97\n",
      "num_problem 86 \n",
      " len(problem_IDs)  86 \n",
      " len(answers) 86\n",
      "num_problem 102 \n",
      " len(problem_IDs)  102 \n",
      " len(answers) 102\n",
      "num_problem 113 \n",
      " len(problem_IDs)  113 \n",
      " len(answers) 113\n",
      "num_problem 74 \n",
      " len(problem_IDs)  74 \n",
      " len(answers) 74\n",
      "num_problem 92 \n",
      " len(problem_IDs)  92 \n",
      " len(answers) 92\n",
      "num_problem 208 \n",
      " len(problem_IDs)  208 \n",
      " len(answers) 208\n",
      "num_problem 106 \n",
      " len(problem_IDs)  106 \n",
      " len(answers) 106\n",
      "num_problem 93 \n",
      " len(problem_IDs)  93 \n",
      " len(answers) 93\n",
      "num_problem 70 \n",
      " len(problem_IDs)  70 \n",
      " len(answers) 70\n",
      "../../2014 SF Session 2/atoms42_imputed.csv filtering out, screen/page info missing\n",
      "num_problem 48 \n",
      " len(problem_IDs)  48 \n",
      " len(answers) 48\n",
      "num_problem 328 \n",
      " len(problem_IDs)  328 \n",
      " len(answers) 328\n",
      "num_problem 266 \n",
      " len(problem_IDs)  266 \n",
      " len(answers) 266\n",
      "num_problem 67 \n",
      " len(problem_IDs)  67 \n",
      " len(answers) 67\n",
      "num_problem 69 \n",
      " len(problem_IDs)  69 \n",
      " len(answers) 69\n",
      "num_problem 64 \n",
      " len(problem_IDs)  64 \n",
      " len(answers) 64\n",
      "num_problem 59 \n",
      " len(problem_IDs)  59 \n",
      " len(answers) 59\n",
      "num_problem 374 \n",
      " len(problem_IDs)  374 \n",
      " len(answers) 374\n",
      "num_problem 69 \n",
      " len(problem_IDs)  69 \n",
      " len(answers) 69\n",
      "num_problem 99 \n",
      " len(problem_IDs)  99 \n",
      " len(answers) 99\n",
      "../../2014 SF Session 2/atoms17_2_imputed.csv filtering out, screen/page info missing\n",
      "num_students 32\n"
     ]
    }
   ],
   "source": [
    "run eye_preprocessing.py"
   ]
  }
 ],
 "metadata": {
  "kernelspec": {
   "display_name": "Python 3",
   "language": "python",
   "name": "python3"
  },
  "language_info": {
   "codemirror_mode": {
    "name": "ipython",
    "version": 3
   },
   "file_extension": ".py",
   "mimetype": "text/x-python",
   "name": "python",
   "nbconvert_exporter": "python",
   "pygments_lexer": "ipython3",
   "version": "3.4.3"
  }
 },
 "nbformat": 4,
 "nbformat_minor": 2
}
