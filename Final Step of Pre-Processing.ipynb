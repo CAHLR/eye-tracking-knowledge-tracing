{
 "cells": [
  {
   "cell_type": "code",
   "execution_count": 4,
   "metadata": {
    "collapsed": true
   },
   "outputs": [],
   "source": [
    "import pandas as pd"
   ]
  },
  {
   "cell_type": "code",
   "execution_count": 8,
   "metadata": {
    "collapsed": true
   },
   "outputs": [],
   "source": [
    "def generate_csv(file_name):\n",
    "    atoms10_msg = pd.read_csv(file_name + '_msg.csv')\n",
    "    atoms10_smp = pd.read_csv(file_name + '_smp.csv')\n",
    "    atoms10_data = pd.concat([atoms10_msg, atoms10_smp])\n",
    "    mappings = pd.read_csv('identifier_logMSG_mapping.csv')\n",
    "    def get_luuid(x):\n",
    "        return x.split()[1][6:]\n",
    "\n",
    "    mappings['luuid'] = mappings['Event'].apply(get_luuid)\n",
    "    aoi_2k16 = pd.read_csv('aoi_2016_v2kc.csv', sep = '|')\n",
    "    aoi_relevant_columns = aoi_2k16[['identifier', 'Session', 'condition', 'problem_type', 'representation', 'Stimulus', 'AOI_withPT', 'Step Name']]\n",
    "    merged = atoms10_data.merge(mappings, on=\"luuid\", how = \"outer\")\n",
    "    final_merge = merged.merge(aoi_relevant_columns, on = 'identifier', how = 'outer')\n",
    "    final_merge.to_csv(file_name + \".csv\")"
   ]
  },
  {
   "cell_type": "code",
   "execution_count": 9,
   "metadata": {
    "collapsed": false
   },
   "outputs": [
    {
     "name": "stderr",
     "output_type": "stream",
     "text": [
      "/Library/Frameworks/Python.framework/Versions/3.4/lib/python3.4/site-packages/IPython/core/interactiveshell.py:3012: DtypeWarning: Columns (17,66) have mixed types. Specify dtype option on import or set low_memory=False.\n",
      "  if self.run_code(code, result):\n"
     ]
    }
   ],
   "source": [
    "generate_csv('atoms10')"
   ]
  },
  {
   "cell_type": "code",
   "execution_count": null,
   "metadata": {
    "collapsed": true
   },
   "outputs": [],
   "source": []
  }
 ],
 "metadata": {
  "kernelspec": {
   "display_name": "Python 3",
   "language": "python",
   "name": "python3"
  },
  "language_info": {
   "codemirror_mode": {
    "name": "ipython",
    "version": 3
   },
   "file_extension": ".py",
   "mimetype": "text/x-python",
   "name": "python",
   "nbconvert_exporter": "python",
   "pygments_lexer": "ipython3",
   "version": "3.4.3"
  }
 },
 "nbformat": 4,
 "nbformat_minor": 2
}
